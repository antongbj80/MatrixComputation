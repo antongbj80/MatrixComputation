{
 "cells": [
  {
   "cell_type": "markdown",
   "metadata": {},
   "source": [
    "# Forward Substitution\n",
    "Consider the following 2-by-2 lower triangular system:\n",
    "$$\\left.\\left[\\begin{array}{cc}\\ell_{11}&0\\\\\\ell_{21}&\\ell_{22}\\end{array}\\right.\\right]\\left[\\begin{array}{c}x_1\\\\x_2\\end{array}\\right] = \\left[\\begin{array}{c}b_1\\\\b_2\\end{array}\\right].$$\n",
    "\n",
    "If l11l22 ≠0, then the unknowns can be determined sequentially:\n",
    "$$\\begin{aligned}&x_{1}=b_1/\\ell_{11},\\\\&x_{2}=(b_2-\\ell_{21}x_1)/\\ell_{22}.\\end{aligned}$$\n",
    "\n",
    "乘除次数：\n",
    "加减次数"
   ]
  },
  {
   "cell_type": "markdown",
   "metadata": {},
   "source": [
    "#上三角矩阵"
   ]
  },
  {
   "cell_type": "code",
   "execution_count": 25,
   "metadata": {},
   "outputs": [
    {
     "name": "stderr",
     "output_type": "stream",
     "text": [
      "\u001b[32m\u001b[1m    Updating\u001b[22m\u001b[39m registry at `C:\\Users\\HP\\.julia\\registries\\General.toml`\n",
      "\u001b[32m\u001b[1m   Resolving\u001b[22m\u001b[39m package versions...\n",
      "\u001b[32m\u001b[1m  No Changes\u001b[22m\u001b[39m to `C:\\Users\\HP\\.julia\\environments\\v1.10\\Project.toml`\n",
      "\u001b[32m\u001b[1m  No Changes\u001b[22m\u001b[39m to `C:\\Users\\HP\\.julia\\environments\\v1.10\\Manifest.toml`\n"
     ]
    }
   ],
   "source": [
    "using Pkg\n",
    "Pkg.add(\"PyPlot\")"
   ]
  },
  {
   "cell_type": "code",
   "execution_count": 35,
   "metadata": {},
   "outputs": [
    {
     "data": {
      "image/png": "[encoded data removed]",
      "text/plain": [
       "Figure(PyObject <Figure size 640x480 with 1 Axes>)"
      ]
     },
     "metadata": {},
     "output_type": "display_data"
    },
    {
     "name": "stdout",
     "output_type": "stream",
     "text": [
      "[-0.6851430528648663 -2.7440225997113172 2.005603326686823 -0.34977500554144303 -0.23552727391709932; 0.0 0.5247768458471468 1.0237487912628949 0.010963296211168714 0.21702226776794742; 0.0 0.0 -0.8627865472827599 0.18257527050134403 -0.10772313537401763; 0.0 0.0 0.0 -0.17532124958962364 -1.3932606233072768; 0.0 0.0 0.0 0.0 -0.7694153549341771]\n"
     ]
    }
   ],
   "source": [
    "using PyPlot\n",
    "using LinearAlgebra\n",
    "using BenchmarkTools\n",
    "\n",
    "#上三角随机生成\n",
    "n = 5\n",
    "A = zeros(n,n)\n",
    "\n",
    "for i in 1:n\n",
    "    for j = i:n\n",
    "        A[i,j] = randn(1)[1]\n",
    "    end\n",
    "end\n",
    "b = randn(n)\n",
    "\n",
    "figure()\n",
    "spy(A)\n",
    "display(gcf())"
   ]
  },
  {
   "cell_type": "code",
   "execution_count": 39,
   "metadata": {},
   "outputs": [
    {
     "name": "stdout",
     "output_type": "stream",
     "text": [
      "5\n",
      "4\n",
      "5\n",
      "3\n",
      "4\n",
      "5\n",
      "2\n",
      "3\n",
      "4\n",
      "5\n"
     ]
    }
   ],
   "source": [
    "x = zeros(n)\n",
    "for i in n:-1:1 \n",
    "    # x[i] = b[i]\n",
    "    # println(i)\n",
    "    for j in i+1 : n\n",
    "        println(j)\n",
    "        x[i] -= A[i,j] *x[j]\n",
    "    end\n",
    "    # x[i] = x[i] / A[i,i]\n",
    "end\n",
    "\n"
   ]
  },
  {
   "cell_type": "markdown",
   "metadata": {},
   "source": [
    "两重循环一般都是O($n^{2}$)"
   ]
  },
  {
   "cell_type": "code",
   "execution_count": 83,
   "metadata": {},
   "outputs": [
    {
     "name": "stdout",
     "output_type": "stream",
     "text": [
      "  2.411 μs (92 allocations: 1.84 KiB)\n"
     ]
    },
    {
     "data": {
      "text/plain": [
       "5-element Vector{Float64}:\n",
       "   8.866981424267099\n",
       " -10.904667736442766\n",
       "   7.682159579925441\n",
       "  13.94053294737298\n",
       "   7.4582860118711665"
      ]
     },
     "metadata": {},
     "output_type": "display_data"
    }
   ],
   "source": []
  },
  {
   "cell_type": "markdown",
   "metadata": {},
   "source": [
    "# 解线性方程组——高斯消元法"
   ]
  },
  {
   "cell_type": "markdown",
   "metadata": {},
   "source": [
    "线性方程组可以用它的增广矩阵来描述，与它的增广矩阵是一一对应的\n",
    "例如，线性方程组\n",
    "$$\\begin{cases}2x_{1}+3x_{3}=1,\\\\x_{1}-x_{2}+2x_{3}=1,\\\\x_{1}-3x_{2}+4x_{3}=2,\\end{cases}$$\n",
    "对应的增广矩阵是\n",
    "$$\\begin{pmatrix}2&0&3&1\\\\1&-1&2&1\\\\1&-3&4&2\\end{pmatrix}$$"
   ]
  },
  {
   "cell_type": "code",
   "execution_count": null,
   "metadata": {},
   "outputs": [],
   "source": [
    "function back_sub(A,b)\n",
    "    x = zeros(n)\n",
    "    for i in n:-1:1 \n",
    "        x[i] = b[i]\n",
    "        for j in i+1 :n\n",
    "            x[i] -= A[i,j] *x[j]\n",
    "        end\n",
    "        x[i] = x[i] / A[i,i]\n",
    "    end\n",
    "    return x\n",
    "end\n",
    "@btime back_sub(A,b)"
   ]
  },
  {
   "cell_type": "code",
   "execution_count": 111,
   "metadata": {},
   "outputs": [
    {
     "data": {
      "text/plain": [
       "gauss_elimination (generic function with 1 method)"
      ]
     },
     "metadata": {},
     "output_type": "display_data"
    }
   ],
   "source": [
    "#步骤：给一个初始矩阵，写出增广矩阵，然后化成上三角矩阵，调用已编写的function back_sub(A,b)求解\n",
    "function gauss_elimination(A,b)\n",
    "    C =hcat(A,b)\n",
    "    for i in 1:n\n",
    "        pivot =A[i,i]\n",
    "        for j in i+1:n\n",
    "            basemanet = C[j,i]/pivot\n",
    "            C[j,:] = C[j,:] -(basemanet .* C[i,:]) \n",
    "        end\n",
    "    end\n",
    "    println(C)\n",
    "    D = C[:,1:n]\n",
    "    e = C[:,4]\n",
    "    return D,e\n",
    "end"
   ]
  },
  {
   "cell_type": "code",
   "execution_count": 159,
   "metadata": {},
   "outputs": [
    {
     "name": "stdout",
     "output_type": "stream",
     "text": [
      "[1.0 2.0 -1.0 8.0; 0.0 -7.0 5.0 -35.0; 0.0 18.0 -15.0 86.0]\n"
     ]
    },
    {
     "data": {
      "text/plain": [
       "3-element Vector{Float64}:\n",
       "  0.4571428571428573\n",
       "  0.9047619047619045\n",
       " -5.733333333333333"
      ]
     },
     "metadata": {},
     "output_type": "display_data"
    }
   ],
   "source": [
    "# n = 3\n",
    "# #随机生成矩阵\n",
    "# A = zeros(n,n)\n",
    "# for i in 1:n\n",
    "#     for j = 1:n\n",
    "#         A[i,j] = rand(1)[1]\n",
    "#     end\n",
    "# end\n",
    "# b = rand(n);\n",
    "D,e = gauss_elimination(A,b);\n",
    "x = back_sub(D,e)"
   ]
  },
  {
   "cell_type": "code",
   "execution_count": 150,
   "metadata": {},
   "outputs": [
    {
     "data": {
      "text/plain": [
       "3-element Vector{Float64}:\n",
       " -2.7999999999999994\n",
       "  6.333333333333332\n",
       "  1.8666666666666658"
      ]
     },
     "metadata": {},
     "output_type": "display_data"
    }
   ],
   "source": [
    "x = A \\ b"
   ]
  },
  {
   "cell_type": "code",
   "execution_count": 156,
   "metadata": {},
   "outputs": [],
   "source": [
    "n = 3;\n",
    "A = [2.0 0 3.0;1.0 -1.0 2.0;1.0 -3.0 4.0];\n",
    "b = [1.0; 1.0; 2.0];"
   ]
  },
  {
   "cell_type": "code",
   "execution_count": 158,
   "metadata": {},
   "outputs": [
    {
     "data": {
      "text/plain": [
       "3×3 Matrix{Float64}:\n",
       " 1.0   2.0  -1.0\n",
       " 3.0  -1.0   2.0\n",
       " 2.0   1.0  -2.0"
      ]
     },
     "metadata": {},
     "output_type": "display_data"
    }
   ],
   "source": [
    "n=3\n",
    "A = [1.0 2.0 -1.0; 3.0 -1.0 2.0; 2.0 1.0 -2.0]\n",
    "b = [8.0; -11.0; -3]\n",
    "A"
   ]
  },
  {
   "cell_type": "markdown",
   "metadata": {},
   "source": [
    "第7周矩阵计算作业\n",
    "- 推导矩阵逆的复杂度\n",
    "- 写一个带排序的高斯消元法"
   ]
  }
 ],
 "metadata": {
  "kernelspec": {
   "display_name": "Julia 1.10.2",
   "language": "julia",
   "name": "julia-1.10"
  },
  "language_info": {
   "file_extension": ".jl",
   "mimetype": "application/julia",
   "name": "julia",
   "version": "1.10.2"
  }
 },
 "nbformat": 4,
 "nbformat_minor": 2
}

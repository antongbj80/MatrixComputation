{
 "cells": [
  {
   "cell_type": "code",
   "execution_count": 1,
   "metadata": {},
   "outputs": [],
   "source": [
    "# lecture 2 code\n",
    "using PyPlot\n",
    "using BenchmarkTools"
   ]
  },
  {
   "cell_type": "code",
   "execution_count": 2,
   "metadata": {},
   "outputs": [
    {
     "data": {
      "text/plain": [
       "back_sub (generic function with 1 method)"
      ]
     },
     "metadata": {},
     "output_type": "display_data"
    }
   ],
   "source": [
    "#求解上三角矩阵\n",
    "function back_sub(A, b)\n",
    "    x = zeros(n)\n",
    "    for i = n:-1:1\n",
    "        x[i] = b[i]\n",
    "        for j = i + 1 : n\n",
    "            x[i] -= A[i, j] * x[j]\n",
    "        end\n",
    "        x[i] = x[i] / A[i, i]\n",
    "    end\n",
    "    return x\n",
    "end"
   ]
  },
  {
   "cell_type": "code",
   "execution_count": 3,
   "metadata": {},
   "outputs": [
    {
     "data": {
      "text/plain": [
       "linear_solver (generic function with 1 method)"
      ]
     },
     "metadata": {},
     "output_type": "display_data"
    }
   ],
   "source": [
    "#高斯消元法\n",
    "function linear_solver(A, b)\n",
    "    n = length(b)\n",
    "\n",
    "    for row = 1:n\n",
    "        # println(row)\n",
    "        for i = row + 1 : n\n",
    "            # println(i)\n",
    "            coef = A[i, row] / A[row, row]\n",
    "            for j = row : n\n",
    "                A[i, j] = A[i, j] - coef * A[row, j]\n",
    "                # println(j)\n",
    "                \n",
    "            end\n",
    "            # 课上的程序缺少了这行\n",
    "            b[i] = b[i] - coef * b[row]\n",
    "        end\n",
    "        # println(A)\n",
    "    end\n",
    "    return back_sub(A,b)\n",
    "end"
   ]
  },
  {
   "cell_type": "code",
   "execution_count": 4,
   "metadata": {},
   "outputs": [
    {
     "data": {
      "text/plain": [
       "modify_linear_solver (generic function with 1 method)"
      ]
     },
     "metadata": {},
     "output_type": "display_data"
    }
   ],
   "source": [
    "#修改高斯消元法(不带排序，把A和b合并处理)\n",
    "function modify_linear_solver(A, b)\n",
    "    n = length(b)\n",
    "    C =hcat(A,b)\n",
    "    # println(C)\n",
    "    for row = 1:n\n",
    "        # println(\"row = \",row)\n",
    "        for i = row + 1 : n\n",
    "            # println(\"i = \",i)\n",
    "            coef = C[i, row] / C[row, row]\n",
    "            for j = row : n+1\n",
    "                # println(\"j = \",j)\n",
    "                C[i, j] = C[i, j] - coef * C[row, j]\n",
    "            end\n",
    "        end     \n",
    "        # println(C)\n",
    "    end\n",
    "    D = C[:,1:n]\n",
    "    e = C[:,n+1]\n",
    "    # println(D)\n",
    "    # println(e)\n",
    "    return back_sub(D,e)\n",
    "end"
   ]
  },
  {
   "cell_type": "code",
   "execution_count": 5,
   "metadata": {},
   "outputs": [],
   "source": [
    "#随机生成n阶矩阵\n",
    "n = 100\n",
    "A = zeros(n, n)\n",
    "for i = 1:n\n",
    "    for j = 1:n\n",
    "        A[i, j] = randn(1)[1]\n",
    "    end\n",
    "end\n",
    "b = randn(n);"
   ]
  },
  {
   "cell_type": "code",
   "execution_count": 6,
   "metadata": {},
   "outputs": [
    {
     "name": "stdout",
     "output_type": "stream",
     "text": [
      "  899.300 μs (30307 allocations: 712.84 KiB)\n"
     ]
    },
    {
     "data": {
      "text/plain": [
       "100-element Vector{Float64}:\n",
       "  -33.466714999619356\n",
       "   13.467865098240647\n",
       "  -38.09012447521151\n",
       "   12.986178269226231\n",
       "  -42.179135557519956\n",
       "  -65.01871955946109\n",
       "  -29.868921635318053\n",
       "   63.71740114783143\n",
       "   39.23806830964172\n",
       "   44.853329361606654\n",
       "    ⋮\n",
       "  -22.282280531905204\n",
       "  -41.830145806365415\n",
       "  -50.07361365581758\n",
       "  -52.542721175923084\n",
       "    4.220248915946266\n",
       "   35.880074375584385\n",
       "   31.671115875053523\n",
       " -142.8516974324281\n",
       "   -7.744102573310137"
      ]
     },
     "metadata": {},
     "output_type": "display_data"
    }
   ],
   "source": [
    "modify_linear_solver(A, b)\n",
    "@btime modify_linear_solver(A, b)"
   ]
  },
  {
   "cell_type": "code",
   "execution_count": 7,
   "metadata": {},
   "outputs": [
    {
     "name": "stdout",
     "output_type": "stream",
     "text": [
      "  2.334 ms (30302 allocations: 554.81 KiB)\n"
     ]
    },
    {
     "data": {
      "text/plain": [
       "100-element Vector{Float64}:\n",
       "  -33.46671499959226\n",
       "   13.46786509823526\n",
       "  -38.09012447520575\n",
       "   12.986178269273594\n",
       "  -42.17913555752505\n",
       "  -65.01871955947537\n",
       "  -29.868921635351278\n",
       "   63.71740114782126\n",
       "   39.23806830963633\n",
       "   44.85332936164094\n",
       "    ⋮\n",
       "  -22.28228053190367\n",
       "  -41.83014580636185\n",
       "  -50.07361365581389\n",
       "  -52.542721175919226\n",
       "    4.220248915945809\n",
       "   35.88007437558173\n",
       "   31.671115875051537\n",
       " -142.85169743241767\n",
       "   -7.744102573309677"
      ]
     },
     "metadata": {},
     "output_type": "display_data"
    }
   ],
   "source": [
    "linear_solver(A, b)\n",
    "@btime linear_solver(A, b)"
   ]
  },
  {
   "cell_type": "code",
   "execution_count": 8,
   "metadata": {},
   "outputs": [
    {
     "name": "stdout",
     "output_type": "stream",
     "text": [
      "  1.290 ms (4 allocations: 79.92 KiB)\n"
     ]
    },
    {
     "data": {
      "text/plain": [
       "100-element Vector{Float64}:\n",
       "  -33.46671499960197\n",
       "   13.467865098245422\n",
       "  -38.09012447521404\n",
       "   12.986178269245313\n",
       "  -42.179135557513696\n",
       "  -65.0187195594542\n",
       "  -29.868921635333315\n",
       "   63.71740114781558\n",
       "   39.23806830965057\n",
       "   44.85332936161462\n",
       "    ⋮\n",
       "  -22.28228053190383\n",
       "  -41.83014580636137\n",
       "  -50.07361365581391\n",
       "  -52.54272117591922\n",
       "    4.220248915945799\n",
       "   35.88007437558172\n",
       "   31.67111587505153\n",
       " -142.85169743241767\n",
       "   -7.744102573309677"
      ]
     },
     "metadata": {},
     "output_type": "display_data"
    }
   ],
   "source": [
    "A \\ b\n",
    "@btime A\\b"
   ]
  },
  {
   "cell_type": "code",
   "execution_count": 9,
   "metadata": {},
   "outputs": [
    {
     "data": {
      "text/plain": [
       "sort_gauss_elimination (generic function with 1 method)"
      ]
     },
     "metadata": {},
     "output_type": "display_data"
    }
   ],
   "source": [
    "#带排序的高斯消元法（列主元）\n",
    "function sort_gauss_elimination(A, b)\n",
    "    n = length(b)\n",
    "\n",
    "    #排序\n",
    "    for k = 1 : n-1  #从1到n-1列，最后一列不需要排序，因为就一个\n",
    "        row_max = k #默认第k行k列是最大的\n",
    "        for m = k+1 :n  #从k+1到n行\n",
    "            #找最大行的位置\n",
    "            if abs(A[m,k]) > abs(A[row_max,k])\n",
    "                row_max = m\n",
    "            end\n",
    "        end\n",
    "\n",
    "        #判断是否需要交换\n",
    "        if row_max != k #需要交换\n",
    "            # 使用临时变量temp_row来存储第k行的内容\n",
    "            temp_row = A[k, :]\n",
    "            temp_b = b[k]\n",
    "            \n",
    "            # 将第max_row行的内容复制到第k行\n",
    "            A[k, :] = A[row_max, :]\n",
    "            b[k] = b[row_max]\n",
    "            \n",
    "            # 将之前第k行（现在存储在temp变量中）的内容复制到第max_row行\n",
    "            A[row_max, :] = temp_row\n",
    "            b[row_max] = temp_b\n",
    "        end\n",
    "\n",
    "    end\n",
    "\n",
    "    #消元，化上三角\n",
    "    for row = 1:n\n",
    "        for i = row + 1 : n\n",
    "            coef = A[i, row] / A[row, row]\n",
    "            for j = row : n\n",
    "                A[i, j] = A[i, j] - coef * A[row, j]\n",
    "            end\n",
    "            b[i] = b[i] - coef * b[row]\n",
    "        end\n",
    "    end\n",
    "    return back_sub(A,b)\n",
    "end"
   ]
  },
  {
   "cell_type": "code",
   "execution_count": 11,
   "metadata": {},
   "outputs": [
    {
     "name": "stdout",
     "output_type": "stream",
     "text": [
      "  31.000 μs (1262 allocations: 23.53 KiB)\n"
     ]
    },
    {
     "data": {
      "text/plain": [
       "20-element Vector{Float64}:\n",
       " -0.28331760642343606\n",
       "  0.2922862128947752\n",
       " -0.7623893248715793\n",
       " -7.229197176079462e-5\n",
       " -0.7835164744438554\n",
       " -0.23166660255487856\n",
       "  0.04171623488989506\n",
       "  0.6942279338391302\n",
       "  0.17623488774638388\n",
       "  0.7541059998942519\n",
       " -0.24973557466210458\n",
       "  0.18865074426940903\n",
       "  0.25068055670816086\n",
       " -0.13065851548563379\n",
       "  1.1396246141760171\n",
       " -0.1731625582546033\n",
       "  0.5042807477277734\n",
       "  0.9959088080866131\n",
       "  0.1850481901861238\n",
       "  0.7536658913229881"
      ]
     },
     "metadata": {},
     "output_type": "display_data"
    }
   ],
   "source": [
    "@btime sort_gauss_elimination(A, b)"
   ]
  },
  {
   "cell_type": "code",
   "execution_count": 12,
   "metadata": {},
   "outputs": [
    {
     "name": "stdout",
     "output_type": "stream",
     "text": [
      "  3.312 μs (3 allocations: 3.69 KiB)\n"
     ]
    },
    {
     "data": {
      "text/plain": [
       "20-element Vector{Float64}:\n",
       " -0.2833176064234382\n",
       "  0.2922862128947741\n",
       " -0.7623893248715803\n",
       " -7.229197176127236e-5\n",
       " -0.7835164744438561\n",
       " -0.23166660255487892\n",
       "  0.04171623488989653\n",
       "  0.6942279338391307\n",
       "  0.1762348877463838\n",
       "  0.7541059998942512\n",
       " -0.24973557466210583\n",
       "  0.1886507442694091\n",
       "  0.2506805567081612\n",
       " -0.13065851548563437\n",
       "  1.139624614176018\n",
       " -0.1731625582546034\n",
       "  0.5042807477277734\n",
       "  0.9959088080866131\n",
       "  0.18504819018612373\n",
       "  0.7536658913229881"
      ]
     },
     "metadata": {},
     "output_type": "display_data"
    }
   ],
   "source": [
    "@btime A\\b"
   ]
  },
  {
   "cell_type": "code",
   "execution_count": 10,
   "metadata": {},
   "outputs": [],
   "source": [
    "#测试算例,随机生成n阶矩阵\n",
    "n = 20\n",
    "A = zeros(n, n)\n",
    "for i = 1:n\n",
    "    for j = 1:n\n",
    "        A[i, j] = randn(1)[1]\n",
    "    end\n",
    "end\n",
    "b = randn(n);"
   ]
  }
 ],
 "metadata": {
  "kernelspec": {
   "display_name": "Julia 1.10.2",
   "language": "julia",
   "name": "julia-1.10"
  },
  "language_info": {
   "file_extension": ".jl",
   "mimetype": "application/julia",
   "name": "julia",
   "version": "1.10.2"
  }
 },
 "nbformat": 4,
 "nbformat_minor": 2
}

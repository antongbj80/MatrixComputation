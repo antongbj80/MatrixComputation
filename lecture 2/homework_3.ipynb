{
 "cells": [
  {
   "cell_type": "code",
   "execution_count": null,
   "metadata": {},
   "outputs": [],
   "source": [
    "# lecture 2 code\n",
    "using PyPlot\n",
    "using BenchmarkTools"
   ]
  },
  {
   "cell_type": "code",
   "execution_count": null,
   "metadata": {},
   "outputs": [],
   "source": [
    "#求解上三角矩阵\n",
    "function back_sub(A, b)\n",
    "    x = zeros(n)\n",
    "    for i = n:-1:1\n",
    "        x[i] = b[i]\n",
    "        for j = i + 1 : n\n",
    "            x[i] -= A[i, j] * x[j]\n",
    "        end\n",
    "        x[i] = x[i] / A[i, i]\n",
    "    end\n",
    "    return x\n",
    "end"
   ]
  },
  {
   "cell_type": "code",
   "execution_count": null,
   "metadata": {},
   "outputs": [],
   "source": [
    "#高斯消元法\n",
    "function linear_solver(A, b)\n",
    "    n = length(b)\n",
    "\n",
    "    for row = 1:n\n",
    "        # println(row)\n",
    "        for i = row + 1 : n\n",
    "            # println(i)\n",
    "            coef = A[i, row] / A[row, row]\n",
    "            for j = row : n\n",
    "                A[i, j] = A[i, j] - coef * A[row, j]\n",
    "                # println(j)\n",
    "                \n",
    "            end\n",
    "            # 课上的程序缺少了这行\n",
    "            b[i] = b[i] - coef * b[row]\n",
    "        end\n",
    "        # println(A)\n",
    "    end\n",
    "    return back_sub(A,b)\n",
    "end"
   ]
  },
  {
   "cell_type": "code",
   "execution_count": null,
   "metadata": {},
   "outputs": [],
   "source": [
    "#修改高斯消元法(不带排序，把A和b合并处理)\n",
    "function modify_linear_solver(A, b)\n",
    "    n = length(b)\n",
    "    C =hcat(A,b)\n",
    "    # println(C)\n",
    "    for row = 1:n\n",
    "        # println(\"row = \",row)\n",
    "        for i = row + 1 : n\n",
    "            # println(\"i = \",i)\n",
    "            coef = C[i, row] / C[row, row]\n",
    "            for j = row : n+1\n",
    "                # println(\"j = \",j)\n",
    "                C[i, j] = C[i, j] - coef * C[row, j]\n",
    "            end\n",
    "        end     \n",
    "        # println(C)\n",
    "    end\n",
    "    D = C[:,1:n]\n",
    "    e = C[:,n+1]\n",
    "    # println(D)\n",
    "    # println(e)\n",
    "    return back_sub(D,e)\n",
    "end"
   ]
  },
  {
   "cell_type": "code",
   "execution_count": null,
   "metadata": {},
   "outputs": [],
   "source": [
    "#随机生成n阶矩阵\n",
    "n = 100\n",
    "A = zeros(n, n)\n",
    "for i = 1:n\n",
    "    for j = 1:n\n",
    "        A[i, j] = randn(1)[1]\n",
    "    end\n",
    "end\n",
    "b = randn(n);"
   ]
  },
  {
   "cell_type": "code",
   "execution_count": null,
   "metadata": {},
   "outputs": [],
   "source": [
    "modify_linear_solver(A, b)\n",
    "@btime modify_linear_solver(A, b)"
   ]
  },
  {
   "cell_type": "code",
   "execution_count": null,
   "metadata": {},
   "outputs": [],
   "source": [
    "linear_solver(A, b)\n",
    "@btime linear_solver(A, b)"
   ]
  },
  {
   "cell_type": "code",
   "execution_count": null,
   "metadata": {},
   "outputs": [],
   "source": [
    "A \\ b\n",
    "@btime A\\b"
   ]
  },
  {
   "cell_type": "code",
   "execution_count": null,
   "metadata": {},
   "outputs": [],
   "source": [
    "#带排序的高斯消元法（列主元）\n",
    "function sort_gauss_elimination(A, b)\n",
    "    n = length(b)\n",
    "\n",
    "    #排序\n",
    "    for k = 1 : n-1  #从1到n-1列，最后一列不需要排序，因为就一个\n",
    "        row_max = k #默认第k行k列是最大的\n",
    "        for m = k+1 :n  #从k+1到n行\n",
    "            #找最大行的位置\n",
    "            if abs(A[m,k]) > abs(A[row_max,k])\n",
    "                row_max = m\n",
    "            end\n",
    "        end\n",
    "\n",
    "        #判断是否需要交换\n",
    "        if row_max != k #需要交换\n",
    "            # 使用临时变量temp_row来存储第k行的内容\n",
    "            temp_row = A[k, :]\n",
    "            temp_b = b[k]\n",
    "            \n",
    "            # 将第max_row行的内容复制到第k行\n",
    "            A[k, :] = A[row_max, :]\n",
    "            b[k] = b[row_max]\n",
    "            \n",
    "            # 将之前第k行（现在存储在temp变量中）的内容复制到第max_row行\n",
    "            A[row_max, :] = temp_row\n",
    "            b[row_max] = temp_b\n",
    "        end\n",
    "\n",
    "    end\n",
    "\n",
    "    #消元，化上三角\n",
    "    for row = 1:n\n",
    "        for i = row + 1 : n\n",
    "            coef = A[i, row] / A[row, row]\n",
    "            for j = row : n\n",
    "                A[i, j] = A[i, j] - coef * A[row, j]\n",
    "            end\n",
    "            b[i] = b[i] - coef * b[row]\n",
    "        end\n",
    "    end\n",
    "    return back_sub(A,b)\n",
    "end"
   ]
  },
  {
   "cell_type": "code",
   "execution_count": null,
   "metadata": {},
   "outputs": [],
   "source": [
    "@btime sort_gauss_elimination(A, b)"
   ]
  },
  {
   "cell_type": "code",
   "execution_count": null,
   "metadata": {},
   "outputs": [],
   "source": [
    "@btime A\\b"
   ]
  },
  {
   "cell_type": "code",
   "execution_count": null,
   "metadata": {},
   "outputs": [],
   "source": [
    "#测试算例,随机生成n阶矩阵\n",
    "n = 20\n",
    "A = zeros(n, n)\n",
    "for i = 1:n\n",
    "    for j = 1:n\n",
    "        A[i, j] = randn(1)[1]\n",
    "    end\n",
    "end\n",
    "b = randn(n);"
   ]
  }
 ],
 "metadata": {
  "kernelspec": {
   "display_name": "Julia 1.10.2",
   "language": "julia",
   "name": "julia-1.10"
  },
  "language_info": {
   "file_extension": ".jl",
   "mimetype": "application/julia",
   "name": "julia",
   "version": "1.10.2"
  }
 },
 "nbformat": 4,
 "nbformat_minor": 2
}

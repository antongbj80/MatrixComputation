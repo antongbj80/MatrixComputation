{
 "cells": [
  {
   "cell_type": "markdown",
   "metadata": {},
   "source": [
    "- 直接求解$Ax = b $,复杂度：$O(n^{3})\n",
    "- 求解上三角或下三角矩阵，复杂度：$O(n^{2})\n",
    "# LU分解\n",
    "$$Ax = b \\Rightarrow LUx = b  ( 令Ux = y ) \\Rightarrow Ly = b $$\n",
    "- 原本的$Ax = b$ 的计算复杂度是$O(n^{3})$\n",
    "- 经过这一些列变换，计算复杂度是一个$O(n^{3})$[高斯消元法，化上三角] 和2个$O(n^{2})$ [上三角求解]"
   ]
  },
  {
   "cell_type": "markdown",
   "metadata": {},
   "source": [
    "A: symmetric positive definite(SPD,对称正定),可以用$LL^{T}$\n",
    "\n",
    "对于三对角矩阵，追赶法"
   ]
  },
  {
   "cell_type": "code",
   "execution_count": 1,
   "metadata": {},
   "outputs": [],
   "source": [
    "using BenchmarkTools"
   ]
  },
  {
   "cell_type": "code",
   "execution_count": 2,
   "metadata": {},
   "outputs": [
    {
     "data": {
      "text/plain": [
       "back_sub (generic function with 1 method)"
      ]
     },
     "metadata": {},
     "output_type": "display_data"
    }
   ],
   "source": [
    "function back_sub(A, b)\n",
    "    x = zeros(n)\n",
    "    for i = n:-1:1\n",
    "        x[i] = b[i]\n",
    "        for j = i + 1 : n\n",
    "            x[i] -= A[i, j] * x[j]\n",
    "        end\n",
    "        x[i] = x[i] / A[i, i]\n",
    "    end\n",
    "    return x\n",
    "end"
   ]
  },
  {
   "cell_type": "code",
   "execution_count": 3,
   "metadata": {},
   "outputs": [
    {
     "data": {
      "text/plain": [
       "forward_sub (generic function with 1 method)"
      ]
     },
     "metadata": {},
     "output_type": "display_data"
    }
   ],
   "source": [
    "function forward_sub(A,b)\n",
    "    x = zeros(n)\n",
    "    for i = 1:n\n",
    "        x[i] = b[i]\n",
    "        # println(\"x [$i] =\" , x[i])\n",
    "        for j = 1 : i-1\n",
    "            x[i] -= A[i, j] * x[j]\n",
    "        end\n",
    "        # println(\"i = \",i)\n",
    "        x[i] = x[i] / A[i, i]\n",
    "        # println(\"最后的x [$i] =\" , x[i])\n",
    "    end\n",
    "    return x\n",
    "end"
   ]
  },
  {
   "cell_type": "code",
   "execution_count": 4,
   "metadata": {},
   "outputs": [
    {
     "data": {
      "text/plain": [
       "LU_Factorization (generic function with 1 method)"
      ]
     },
     "metadata": {},
     "output_type": "display_data"
    }
   ],
   "source": [
    "function LU_Factorization(A,b)\n",
    "    n = size(A, 1)\n",
    "    L = zeros(n, n)\n",
    "    U = copy(A)\n",
    "\n",
    "    for k = 1:n\n",
    "        for i = k + 1 : n\n",
    "            L[i,k] = U[i,k]/U[k,k]\n",
    "            for j = k : n\n",
    "                U[i, j] -= L[i,k] * U[k,j]\n",
    "            end\n",
    "        end\n",
    "    end\n",
    "\n",
    "    for i = 1:n\n",
    "        L[i,i] = 1\n",
    "    end\n",
    "    # println(L)\n",
    "    # println(U)\n",
    "    # return L,U\n",
    "    y = forward_sub(L,b)\n",
    "    x = back_sub(U, y)\n",
    "    return x\n",
    "end"
   ]
  },
  {
   "cell_type": "code",
   "execution_count": 6,
   "metadata": {},
   "outputs": [
    {
     "data": {
      "text/plain": [
       "4-element Vector{Float64}:\n",
       " 1.0\n",
       " 0.0\n",
       " 1.0\n",
       " 0.0"
      ]
     },
     "metadata": {},
     "output_type": "display_data"
    }
   ],
   "source": [
    "n = 4;\n",
    "A = [1.0 1.0 2.0 3.0;0.0 2.0 1.0 2.0;1.0 -1.0 2.0 2.0;2.0 2.0 5.0 9.0];\n",
    "b = [3.0; 1.0; 3.0; 7.0];\n",
    "LU_Factorization(A,b)"
   ]
  },
  {
   "cell_type": "code",
   "execution_count": 8,
   "metadata": {},
   "outputs": [
    {
     "data": {
      "text/plain": [
       "3-element Vector{Float64}:\n",
       "  0.5235569989007299\n",
       " -0.4397820146008997\n",
       "  0.7782347713846534"
      ]
     },
     "metadata": {},
     "output_type": "display_data"
    }
   ],
   "source": [
    "n = 3\n",
    "\n",
    "A = zeros(n, n)\n",
    "for i = 1:n\n",
    "    for j = 1:n\n",
    "        A[i, j] = randn(1)[1]\n",
    "    end\n",
    "end\n",
    "b = randn(n);\n",
    "LU_Factorization(A,b)"
   ]
  },
  {
   "cell_type": "code",
   "execution_count": 10,
   "metadata": {},
   "outputs": [
    {
     "data": {
      "text/plain": [
       "100-element Vector{Float64}:\n",
       "  0.37035290277421085\n",
       " -0.6568298042222591\n",
       " -0.8586670005450586\n",
       " -1.2400468499437471\n",
       "  1.9947915461430563\n",
       "  0.6161142226137745\n",
       "  1.6338165334602988\n",
       " -1.9936180232231162\n",
       " -3.1117674178785606\n",
       "  1.2392475154852354\n",
       "  ⋮\n",
       "  0.5302296336515686\n",
       "  0.7114047587249877\n",
       "  4.286547327796872\n",
       " -3.356690400153187\n",
       "  1.8116340300731333\n",
       "  1.1623471362401314\n",
       " -0.569534935617437\n",
       "  1.1041825516298898\n",
       " -2.2531916335505557"
      ]
     },
     "metadata": {},
     "output_type": "display_data"
    }
   ],
   "source": [
    "using PyPlot\n",
    "#随机生成n阶矩阵\n",
    "n = 100\n",
    "A = zeros(n, n)\n",
    "for i = 1:n\n",
    "    for j = 1:n\n",
    "        A[i, j] = randn(1)[1]\n",
    "    end\n",
    "end\n",
    "b = randn(n);\n",
    "# figure()\n",
    "# spy(A)\n",
    "# display(gcf())\n",
    "L,U = LU_Factorization(A,b)\n",
    "# y = forward_sub(L,b)\n",
    "# x = back_sub(U, y)"
   ]
  },
  {
   "cell_type": "code",
   "execution_count": 11,
   "metadata": {},
   "outputs": [
    {
     "data": {
      "text/plain": [
       "100-element Vector{Float64}:\n",
       "  0.3703529027736924\n",
       " -0.6568298042229409\n",
       " -0.8586670005450632\n",
       " -1.2400468499445407\n",
       "  1.9947915461441685\n",
       "  0.6161142226140076\n",
       "  1.6338165334613401\n",
       " -1.9936180232241725\n",
       " -3.1117674178801282\n",
       "  1.2392475154862959\n",
       "  ⋮\n",
       "  0.5302296336517407\n",
       "  0.7114047587251902\n",
       "  4.286547327798877\n",
       " -3.3566904001548123\n",
       "  1.8116340300744433\n",
       "  1.162347136240845\n",
       " -0.5695349356181254\n",
       "  1.1041825516305124\n",
       " -2.253191633551273"
      ]
     },
     "metadata": {},
     "output_type": "display_data"
    }
   ],
   "source": [
    "A\\b"
   ]
  },
  {
   "cell_type": "markdown",
   "metadata": {},
   "source": [
    "第四次作业\n",
    "- 写一个lineSolver.jl文件（截图发邮箱）\n",
    "- drawio.com，"
   ]
  },
  {
   "cell_type": "code",
   "execution_count": 12,
   "metadata": {},
   "outputs": [
    {
     "data": {
      "text/plain": [
       "tri_DiagSolver (generic function with 1 method)"
      ]
     },
     "metadata": {},
     "output_type": "display_data"
    }
   ],
   "source": [
    "#三对角矩阵求解（追赶法）\n",
    "function tri_DiagSolver(A,b)\n",
    "    n = size(A, 1)\n",
    "    u = zeros(n)\n",
    "    y = zeros(n)\n",
    "\n",
    "    u[1] = A[1,2]/A[1,1]\n",
    "    y[1] = b[1]/A[1,1]\n",
    "    for i = 2:n-1\n",
    "        u[i] = A[i,i+1]/(A[i,i]-u[i-1]*A[i,i-1])\n",
    "        y[i] = ((b[i]-y[i-1]*A[i,i-1])/(A[i,i]-u[i-1]*A[i,i-1]))        \n",
    "    end\n",
    "    y[n] = ((b[n]-y[n-1]*A[n,n-1])/(A[n,n]-u[n-1]*A[n,n-1]))\n",
    "    # 回代求解x\n",
    "    x = zeros(n)\n",
    "    x[n] = y[n]\n",
    "    for i = n-1:-1:1\n",
    "        x[i] = y[i] - u[i] * x[i+1]\n",
    "    end\n",
    "    return x\n",
    "end"
   ]
  },
  {
   "cell_type": "code",
   "execution_count": 13,
   "metadata": {},
   "outputs": [
    {
     "data": {
      "text/plain": [
       "3-element Vector{Float64}:\n",
       " -0.5\n",
       "  0.75\n",
       "  2.25"
      ]
     },
     "metadata": {},
     "output_type": "display_data"
    }
   ],
   "source": [
    "A = [1.0 2.0 0.0; 2.0 1.0 1.0; 0.0 1.0 1.0]\n",
    "b = [1.0, 2.0, 3.0]\n",
    "tri_DiagSolver(A,b)"
   ]
  },
  {
   "cell_type": "code",
   "execution_count": 17,
   "metadata": {},
   "outputs": [
    {
     "data": {
      "text/plain": [
       "50-element Vector{Float64}:\n",
       "   6.1070331796441035\n",
       "  -1.5260351901202762\n",
       "   4.454593615074032\n",
       "   1.3218320729773518\n",
       "   0.05025237289068896\n",
       "   0.4645053878955822\n",
       "  -1.0131772190537394\n",
       "   0.959299596558881\n",
       "  -0.29287305963523824\n",
       "   3.0831229411904473\n",
       "   ⋮\n",
       "   5.1177050911276645\n",
       "   0.17193902880039924\n",
       "  -1.8089570504827486\n",
       "  -0.6251153546316126\n",
       "  -4.339173928695723\n",
       "  -3.184438926185806\n",
       "   4.134879799999258\n",
       " -11.63917288455576\n",
       "   2.1500080955781002"
      ]
     },
     "metadata": {},
     "output_type": "display_data"
    }
   ],
   "source": [
    "#随机生成三对角矩阵\n",
    "using PyPlot\n",
    "\n",
    "n = 50\n",
    "A = zeros(n, n)\n",
    "for i = 1:n\n",
    "    A[i, i] = randn(1)[1]\n",
    "    if i>1\n",
    "        A[i, i-1] = randn(1)[1] \n",
    "    end\n",
    "    if i<n\n",
    "        A[i,i+1] = randn(1)[1]\n",
    "    end\n",
    "end\n",
    "b = randn(n);\n",
    "# println(A)\n",
    "# figure()\n",
    "# spy(A)\n",
    "# display(gcf())\n",
    "tri_DiagSolver(A,b)"
   ]
  },
  {
   "cell_type": "code",
   "execution_count": 18,
   "metadata": {},
   "outputs": [
    {
     "data": {
      "text/plain": [
       "50-element Vector{Float64}:\n",
       "   6.107033179644105\n",
       "  -1.526035190120277\n",
       "   4.454593615074024\n",
       "   1.321832072977352\n",
       "   0.050252372890691566\n",
       "   0.4645053878955815\n",
       "  -1.0131772190537371\n",
       "   0.9592995965588813\n",
       "  -0.2928730596352387\n",
       "   3.083122941190447\n",
       "   ⋮\n",
       "   5.117705091127661\n",
       "   0.1719390288003986\n",
       "  -1.8089570504827481\n",
       "  -0.6251153546316124\n",
       "  -4.339173928695722\n",
       "  -3.184438926185805\n",
       "   4.134879799999257\n",
       " -11.639172884555764\n",
       "   2.1500080955781002"
      ]
     },
     "metadata": {},
     "output_type": "display_data"
    }
   ],
   "source": [
    "A\\b"
   ]
  }
 ],
 "metadata": {
  "kernelspec": {
   "display_name": "Julia 1.10.2",
   "language": "julia",
   "name": "julia-1.10"
  },
  "language_info": {
   "file_extension": ".jl",
   "mimetype": "application/julia",
   "name": "julia",
   "version": "1.10.2"
  }
 },
 "nbformat": 4,
 "nbformat_minor": 2
}

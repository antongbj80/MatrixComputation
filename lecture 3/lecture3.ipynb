{
 "cells": [
  {
   "cell_type": "markdown",
   "metadata": {},
   "source": [
    "- 直接求解$Ax = b $,复杂度：$O(n^{3})\n",
    "- 求解上三角或下三角矩阵，复杂度：$O(n^{2})\n",
    "# LU分解\n",
    "$$Ax = b \\Rightarrow LUx = b  ( 令Ux = y ) \\Rightarrow Ly = b $$\n",
    "- 原本的$Ax = b$ 的计算复杂度是$O(n^{3})$\n",
    "- 经过这一些列变换，计算复杂度是一个$O(n^{3})$[高斯消元法，化上三角] 和2个$O(n^{2})$ [上三角求解]"
   ]
  },
  {
   "cell_type": "markdown",
   "metadata": {},
   "source": [
    "A: symmetric positive definite(SPD,对称正定),可以用$LL^{T}$\n",
    "\n",
    "对于三对角矩阵，追赶法"
   ]
  },
  {
   "cell_type": "code",
   "execution_count": 1,
   "metadata": {},
   "outputs": [],
   "source": [
    "using BenchmarkTools"
   ]
  },
  {
   "cell_type": "code",
   "execution_count": 2,
   "metadata": {},
   "outputs": [
    {
     "data": {
      "text/plain": [
       "back_sub (generic function with 1 method)"
      ]
     },
     "metadata": {},
     "output_type": "display_data"
    }
   ],
   "source": [
    "function back_sub(A, b)\n",
    "    x = zeros(n)\n",
    "    for i = n:-1:1\n",
    "        x[i] = b[i]\n",
    "        for j = i + 1 : n\n",
    "            x[i] -= A[i, j] * x[j]\n",
    "        end\n",
    "        x[i] = x[i] / A[i, i]\n",
    "    end\n",
    "    return x\n",
    "end"
   ]
  },
  {
   "cell_type": "code",
   "execution_count": 3,
   "metadata": {},
   "outputs": [
    {
     "data": {
      "text/plain": [
       "forward_sub (generic function with 1 method)"
      ]
     },
     "metadata": {},
     "output_type": "display_data"
    }
   ],
   "source": [
    "function forward_sub(A,b)\n",
    "    x = zeros(n)\n",
    "    for i = 1:n\n",
    "        x[i] = b[i]\n",
    "        # println(\"x [$i] =\" , x[i])\n",
    "        for j = 1 : i-1\n",
    "            x[i] -= A[i, j] * x[j]\n",
    "        end\n",
    "        # println(\"i = \",i)\n",
    "        x[i] = x[i] / A[i, i]\n",
    "        # println(\"最后的x [$i] =\" , x[i])\n",
    "    end\n",
    "    return x\n",
    "end"
   ]
  },
  {
   "cell_type": "code",
   "execution_count": 6,
   "metadata": {},
   "outputs": [
    {
     "data": {
      "text/plain": [
       "LU_Factorization (generic function with 2 methods)"
      ]
     },
     "metadata": {},
     "output_type": "display_data"
    }
   ],
   "source": [
    "function LU_Factorization(A,b)\n",
    "    n = size(A, 1)\n",
    "    L = zeros(n, n)\n",
    "    U = copy(A)\n",
    "\n",
    "    for k = 1:n\n",
    "        for i = k + 1 : n\n",
    "            L[i,k] = U[i,k]/U[k,k]\n",
    "            for j = k : n\n",
    "                U[i, j] -= L[i,k] * U[k,j]\n",
    "            end\n",
    "        end\n",
    "    end\n",
    "\n",
    "    for i = 1:n\n",
    "        L[i,i] = 1\n",
    "    end\n",
    "    # println(L)\n",
    "    # println(U)\n",
    "    # return L,U\n",
    "    y = forward_sub(L,b)\n",
    "    x = back_sub(U, y)\n",
    "    return x\n",
    "end"
   ]
  },
  {
   "cell_type": "code",
   "execution_count": 61,
   "metadata": {},
   "outputs": [
    {
     "data": {
      "text/plain": [
       "4-element Vector{Float64}:\n",
       " 1.0\n",
       " 0.0\n",
       " 1.0\n",
       " 0.0"
      ]
     },
     "metadata": {},
     "output_type": "display_data"
    }
   ],
   "source": [
    "n = 4;\n",
    "A = [1.0 1.0 2.0 3.0;0.0 2.0 1.0 2.0;1.0 -1.0 2.0 2.0;2.0 2.0 5.0 9.0];\n",
    "b = [3.0; 1.0; 3.0; 7.0];\n",
    "L,U = LU_Factorization(A)\n",
    "y = forward_sub(L,b)\n",
    "x = back_sub(U, y)"
   ]
  },
  {
   "cell_type": "code",
   "execution_count": 10,
   "metadata": {},
   "outputs": [
    {
     "name": "stdout",
     "output_type": "stream",
     "text": [
      "[1.0 0.0 0.0; 0.6532806800943114 1.0 0.0; -0.44007059853786257 -0.12259446317460458 1.0]\n",
      "[-1.6684711334307656 -0.5001572510167872 -0.24927706894239046; 0.0 2.258829437896355 1.4392565812898983; 0.0 0.0 1.576859851597865]\n"
     ]
    }
   ],
   "source": [
    "n = 3\n",
    "\n",
    "A = zeros(n, n)\n",
    "for i = 1:n\n",
    "    for j = 1:n\n",
    "        A[i, j] = randn(1)[1]\n",
    "    end\n",
    "end\n",
    "b = randn(n);\n",
    "LU_Factorization(A,b)"
   ]
  },
  {
   "cell_type": "code",
   "execution_count": 63,
   "metadata": {},
   "outputs": [
    {
     "data": {
      "text/plain": [
       "3-element Vector{Float64}:\n",
       "  0.5\n",
       " -0.16666666666666666\n",
       "  0.2916666666666667"
      ]
     },
     "metadata": {},
     "output_type": "display_data"
    }
   ],
   "source": [
    "n = 3;\n",
    "A = [2.0 0.0 0.0;-1.0 3.0 0.0;1.0 -2.0 4.0];\n",
    "b = [1.0; -1.0; 2.0];\n",
    "L,U = LU_Factorization(A)\n",
    "y = forward_sub(L,b)\n",
    "x = back_sub(U, y)"
   ]
  },
  {
   "cell_type": "code",
   "execution_count": 7,
   "metadata": {},
   "outputs": [
    {
     "data": {
      "text/plain": [
       "100-element Vector{Float64}:\n",
       "  2.226881149536307\n",
       "  0.8249738736368465\n",
       "  1.761677022781638\n",
       "  0.4135329870174612\n",
       " -1.4793199775694028\n",
       " -2.032983654855264\n",
       "  3.857994755667302\n",
       "  1.149924810211032\n",
       "  0.6364672675709054\n",
       "  1.9446595024729085\n",
       "  ⋮\n",
       "  2.032966722209989\n",
       " -1.556791386253424\n",
       "  2.181595936275801\n",
       " -0.6437097216701141\n",
       " -0.04337249357606358\n",
       "  1.2770659538849933\n",
       "  0.7761230123392369\n",
       "  1.4598408272471608\n",
       " -1.8587684227466685"
      ]
     },
     "metadata": {},
     "output_type": "display_data"
    }
   ],
   "source": [
    "using PyPlot\n",
    "#随机生成n阶矩阵\n",
    "n = 100\n",
    "A = zeros(n, n)\n",
    "for i = 1:n\n",
    "    for j = 1:n\n",
    "        A[i, j] = randn(1)[1]\n",
    "    end\n",
    "end\n",
    "b = randn(n);\n",
    "# figure()\n",
    "# spy(A)\n",
    "# display(gcf())\n",
    "L,U = LU_Factorization(A,b)\n",
    "# y = forward_sub(L,b)\n",
    "# x = back_sub(U, y)"
   ]
  },
  {
   "cell_type": "code",
   "execution_count": 8,
   "metadata": {},
   "outputs": [
    {
     "data": {
      "text/plain": [
       "100-element Vector{Float64}:\n",
       "  2.2268811495365006\n",
       "  0.8249738736371229\n",
       "  1.7616770227821594\n",
       "  0.4135329870176712\n",
       " -1.479319977569343\n",
       " -2.0329836548562397\n",
       "  3.857994755665964\n",
       "  1.1499248102119903\n",
       "  0.6364672675718483\n",
       "  1.9446595024743378\n",
       "  ⋮\n",
       "  2.0329667222118646\n",
       " -1.5567913862532055\n",
       "  2.1815959362769113\n",
       " -0.643709721670235\n",
       " -0.04337249357533035\n",
       "  1.2770659538861486\n",
       "  0.7761230123397053\n",
       "  1.4598408272464247\n",
       " -1.8587684227463277"
      ]
     },
     "metadata": {},
     "output_type": "display_data"
    }
   ],
   "source": [
    "A\\b"
   ]
  },
  {
   "cell_type": "markdown",
   "metadata": {},
   "source": [
    "第四次作业\n",
    "- 写一个lineSolver.jl文件（截图发邮箱）\n",
    "- drawio.com，"
   ]
  },
  {
   "cell_type": "code",
   "execution_count": 17,
   "metadata": {},
   "outputs": [
    {
     "data": {
      "text/plain": [
       "tri_DiagSolver (generic function with 1 method)"
      ]
     },
     "metadata": {},
     "output_type": "display_data"
    }
   ],
   "source": [
    "#三对角矩阵求解（追赶法）\n",
    "function tri_DiagSolver(A,b)\n",
    "    n = size(A, 1)\n",
    "    u = zeros(n)\n",
    "    y = zeros(n)\n",
    "\n",
    "    u[1] = A[1,2]/A[1,1]\n",
    "    y[1] = b[1]/A[1,1]\n",
    "    for i = 2:n-1\n",
    "        u[i] = A[i,i+1]/(A[i,i]-u[i-1]*A[i,i-1])\n",
    "        y[i] = ((b[i]-y[i-1]*A[i,i-1])/(A[i,i]-u[i-1]*A[i,i-1]))        \n",
    "    end\n",
    "    y[n] = ((b[n]-y[n-1]*A[n,n-1])/(A[n,n]-u[n-1]*A[n,n-1]))\n",
    "    # 回代求解x\n",
    "    x = zeros(n)\n",
    "    x[n] = y[n]\n",
    "    for i = n-1:-1:1\n",
    "        x[i] = y[i] - u[i] * x[i+1]\n",
    "    end\n",
    "    return x\n",
    "end"
   ]
  },
  {
   "cell_type": "code",
   "execution_count": 18,
   "metadata": {},
   "outputs": [
    {
     "data": {
      "text/plain": [
       "3-element Vector{Float64}:\n",
       " -0.5\n",
       "  0.75\n",
       "  2.25"
      ]
     },
     "metadata": {},
     "output_type": "display_data"
    }
   ],
   "source": [
    "A = [1.0 2.0 0.0; 2.0 1.0 1.0; 0.0 1.0 1.0]\n",
    "b = [1.0, 2.0, 3.0]\n",
    "tri_DiagSolver(A,b)"
   ]
  },
  {
   "cell_type": "code",
   "execution_count": 30,
   "metadata": {},
   "outputs": [
    {
     "data": {
      "text/plain": [
       "100-element Vector{Float64}:\n",
       " -0.020417848343601552\n",
       "  0.80765946590505\n",
       " -0.2812525094241318\n",
       "  1.5184524459024478\n",
       " -0.7333667277801283\n",
       "  0.6782291069373119\n",
       " -0.4846029325786481\n",
       "  0.08224349811839599\n",
       "  1.0940410441169528\n",
       " -0.08382457132529907\n",
       "  ⋮\n",
       " -0.3865649466934169\n",
       "  1.4239570517745235\n",
       "  1.474781296822104\n",
       "  1.2349047958457842\n",
       " -0.8475214878503404\n",
       " -0.04609052316777301\n",
       "  0.7288459892082169\n",
       "  0.3111940342857187\n",
       "  0.4122099236378887"
      ]
     },
     "metadata": {},
     "output_type": "display_data"
    }
   ],
   "source": [
    "#随机生成三对角矩阵\n",
    "using PyPlot\n",
    "\n",
    "n = 100\n",
    "A = zeros(n, n)\n",
    "for i = 1:n\n",
    "    A[i, i] = randn(1)[1]\n",
    "    if i>1\n",
    "        A[i, i-1] = randn(1)[1] \n",
    "    end\n",
    "    if i<n\n",
    "        A[i,i+1] = randn(1)[1]\n",
    "    end\n",
    "end\n",
    "b = randn(n);\n",
    "# println(A)\n",
    "# figure()\n",
    "# spy(A)\n",
    "# display(gcf())\n",
    "tri_DiagSolver(A,b)"
   ]
  },
  {
   "cell_type": "code",
   "execution_count": 31,
   "metadata": {},
   "outputs": [
    {
     "data": {
      "text/plain": [
       "100-element Vector{Float64}:\n",
       " -0.02041784834360158\n",
       "  0.8076594659050501\n",
       " -0.28125250942413194\n",
       "  1.5184524459024478\n",
       " -0.7333667277801281\n",
       "  0.6782291069373116\n",
       " -0.48460293257864795\n",
       "  0.08224349811839607\n",
       "  1.0940410441169526\n",
       " -0.08382457132529904\n",
       "  ⋮\n",
       " -0.3865649466934167\n",
       "  1.423957051774524\n",
       "  1.474781296822103\n",
       "  1.2349047958457826\n",
       " -0.8475214878503404\n",
       " -0.04609052316777289\n",
       "  0.7288459892082166\n",
       "  0.31119403428571824\n",
       "  0.41220992363788883"
      ]
     },
     "metadata": {},
     "output_type": "display_data"
    }
   ],
   "source": [
    "A\\b"
   ]
  }
 ],
 "metadata": {
  "kernelspec": {
   "display_name": "Julia 1.10.2",
   "language": "julia",
   "name": "julia-1.10"
  },
  "language_info": {
   "file_extension": ".jl",
   "mimetype": "application/julia",
   "name": "julia",
   "version": "1.10.2"
  }
 },
 "nbformat": 4,
 "nbformat_minor": 2
}
